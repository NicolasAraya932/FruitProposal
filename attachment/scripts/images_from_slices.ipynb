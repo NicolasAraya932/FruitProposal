{
 "cells": [
  {
   "cell_type": "code",
   "execution_count": 1,
   "id": "d14934a0",
   "metadata": {},
   "outputs": [
    {
     "name": "stdout",
     "output_type": "stream",
     "text": [
      "Jupyter environment detected. Enabling Open3D WebVisualizer.\n",
      "[Open3D INFO] WebRTC GUI backend enabled.\n",
      "[Open3D INFO] WebRTCWindowSystem: HTTP handshake server disabled.\n"
     ]
    }
   ],
   "source": [
    "# Libraries\n",
    "import open3d as o3d\n",
    "import viser\n",
    "import torch\n",
    "import numpy as np"
   ]
  },
  {
   "cell_type": "code",
   "execution_count": null,
   "id": "a86d95ad",
   "metadata": {},
   "outputs": [
    {
     "name": "stdout",
     "output_type": "stream",
     "text": [
      "dict_keys(['points', 'plane', 'rgb'])\n"
     ]
    }
   ],
   "source": [
    "#@title Importing the Clusters with It's radiances\n",
    "slices = torch.load(\"/workspace/FruitProposal/attachment/RadianceCloud/slice_points.pt\")\n",
    "\n",
    "planes = slices['planes']\n",
    "points = slices['points']\n",
    "rgbs   = slices['rgb']\n",
    "\n",
    "print(slices.keys())"
   ]
  },
  {
   "cell_type": "code",
   "execution_count": null,
   "id": "ed6561c9",
   "metadata": {},
   "outputs": [],
   "source": [
    "server = viser.ViserServer()\n",
    "\n",
    "\n"
   ]
  }
 ],
 "metadata": {
  "kernelspec": {
   "display_name": "Python 3",
   "language": "python",
   "name": "python3"
  },
  "language_info": {
   "codemirror_mode": {
    "name": "ipython",
    "version": 3
   },
   "file_extension": ".py",
   "mimetype": "text/x-python",
   "name": "python",
   "nbconvert_exporter": "python",
   "pygments_lexer": "ipython3",
   "version": "3.10.12"
  }
 },
 "nbformat": 4,
 "nbformat_minor": 5
}
