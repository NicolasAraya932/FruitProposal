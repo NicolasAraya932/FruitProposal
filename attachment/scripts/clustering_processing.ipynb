{
 "cells": [
  {
   "cell_type": "code",
   "execution_count": 10,
   "id": "90b46433",
   "metadata": {},
   "outputs": [],
   "source": [
    "# Libraries\n",
    "import open3d as o3d\n",
    "import viser\n",
    "import torch\n",
    "import numpy as np"
   ]
  },
  {
   "cell_type": "code",
   "execution_count": 11,
   "id": "8a5ba8f4",
   "metadata": {},
   "outputs": [
    {
     "name": "stdout",
     "output_type": "stream",
     "text": [
      "Number of Clusters:  260\n",
      "dict_keys(['cluster_center', 'cluster_radius', 'cluster_corners', 'cluster_u_corners', 'cluster_l_corners', 'cluster_mask', 'radiance'])\n"
     ]
    }
   ],
   "source": [
    "#@title Importing the Clusters with It's radiances\n",
    "_3DBbox = torch.load(\"/workspace/FruitProposal/attachment/RadianceCloud/fruit_proposal_clusters_output.pt\")\n",
    "\n",
    "print(\"Number of Clusters: \", len(_3DBbox[\"cluster_center\"]))\n",
    "print(_3DBbox.keys())\n",
    "\n",
    "n_cluster = 30"
   ]
  },
  {
   "cell_type": "code",
   "execution_count": 12,
   "id": "8175edcb",
   "metadata": {},
   "outputs": [
    {
     "name": "stdout",
     "output_type": "stream",
     "text": [
      "Edge vectors:\n",
      "e1: [0.05194551 0.         0.        ]\n",
      "e2: [0.         0.05194551 0.        ]\n",
      "e3: [0.        0.        0.0519455]\n"
     ]
    }
   ],
   "source": [
    "#TEST\n",
    "# Obtaining the graph nodes\n",
    "corners       = _3DBbox[\"cluster_corners\"][n_cluster]\n",
    "upper_corners = _3DBbox[\"cluster_u_corners\"][n_cluster]\n",
    "lower_corners = _3DBbox[\"cluster_l_corners\"][n_cluster]\n",
    "center        = _3DBbox[\"cluster_center\"][n_cluster]\n",
    "radius        = _3DBbox[\"cluster_radius\"][n_cluster]\n",
    "\n",
    "radiance = _3DBbox[\"radiance\"]\n",
    "points   = radiance[\"points\"][n_cluster]\n",
    "rgb      = radiance[\"rgb\"][n_cluster]\n",
    "\n",
    "v1 = corners[0]\n",
    "v2 = corners[1]\n",
    "v3 = corners[2]\n",
    "v4 = corners[3]\n",
    "\n",
    "# Compute edge vectors\n",
    "e1 = v2 - v1\n",
    "e2 = v3 - v1\n",
    "e3 = v4 - v1\n",
    "\n",
    "print(\"Edge vectors:\")\n",
    "print(\"e1:\", e1)\n",
    "print(\"e2:\", e2)\n",
    "print(\"e3:\", e3)\n",
    "\n",
    "# Normalize to get unit directions\n",
    "u1 = e1 / np.linalg.norm(e1)\n",
    "u2 = e2 / np.linalg.norm(e2)\n",
    "u3 = e3 / np.linalg.norm(e3)\n",
    "\n",
    "# Build local-to-world rotation matrix\n",
    "T = np.eye(3,3)\n",
    "\n",
    "# Propagate a 3x3x3 grid in local coordinates into world space\n",
    "edge_length = np.linalg.norm(e1)  # assume all edges equal length\n",
    "grid_size = 20\n",
    "points_world = []\n",
    "for i in range(grid_size):\n",
    "    for j in range(grid_size):\n",
    "        for k in range(grid_size):\n",
    "            local_pt = np.array([i, j, k]) * (edge_length / (grid_size - 1))\n",
    "            world_pt = v1 + T @ local_pt\n",
    "            points_world.append(world_pt)\n",
    "points_world = np.array(points_world)"
   ]
  },
  {
   "cell_type": "code",
   "execution_count": 13,
   "id": "7e0e2d84",
   "metadata": {},
   "outputs": [
    {
     "data": {
      "text/html": [
       "<pre style=\"white-space:pre;overflow-x:auto;line-height:normal;font-family:Menlo,'DejaVu Sans Mono',consolas,'Courier New',monospace\">╭─────────────── <span style=\"font-weight: bold\">viser</span> ───────────────╮\n",
       "│             ╷                       │\n",
       "│   HTTP      │ http://0.0.0.0:8081   │\n",
       "│   Websocket │ ws://0.0.0.0:8081     │\n",
       "│             ╵                       │\n",
       "╰─────────────────────────────────────╯\n",
       "</pre>\n"
      ],
      "text/plain": [
       "╭─────────────── \u001b[1mviser\u001b[0m ───────────────╮\n",
       "│             ╷                       │\n",
       "│   HTTP      │ http://0.0.0.0:8081   │\n",
       "│   Websocket │ ws://0.0.0.0:8081     │\n",
       "│             ╵                       │\n",
       "╰─────────────────────────────────────╯\n"
      ]
     },
     "metadata": {},
     "output_type": "display_data"
    },
    {
     "data": {
      "text/plain": [
       "MeshHandle(_impl=_SceneNodeHandleState(name='/bbox_cube/cluster_0_box', api=<viser._scene_api.SceneApi object at 0x7fd80fc814e0>, wxyz=array([1., 0., 0., 0.]), position=array([ 0.27118844,  0.2108236 , -0.03763865], dtype=float32), visible=False, click_cb=None))"
      ]
     },
     "execution_count": 13,
     "metadata": {},
     "output_type": "execute_result"
    }
   ],
   "source": [
    "pcd_c_grids = o3d.geometry.PointCloud()\n",
    "pcd_c_grids.points = o3d.utility.Vector3dVector(points_world)\n",
    "pcd_c_grids.paint_uniform_color([0.5, 0.5, 0.5])  # Gray color for grids\n",
    "pcd_c_grids.estimate_normals(search_param=o3d.geometry.KDTreeSearchParamHybrid(radius=0.1, max_nn=30))\n",
    "\n",
    "# Visualize the point cloud with grids using viser\n",
    "server = viser.ViserServer()\n",
    "\n",
    "# Grids\n",
    "server.scene.add_point_cloud(\n",
    "    name=\"/grid_points\",\n",
    "    points=np.asarray(pcd_c_grids.points),\n",
    "    colors=np.asarray(pcd_c_grids.colors),\n",
    "    point_size=0.0002,\n",
    "    visible=False\n",
    ")\n",
    "\n",
    "# Bbox\n",
    "server.scene.add_box(\n",
    "    name=f\"/bbox_cube/cluster_0_box\",\n",
    "    position=center,\n",
    "    dimensions=np.array([radius * 2, radius * 2, radius * 2]),\n",
    "    color=np.array([1.0, 0.0, 0.0]),  # black\n",
    "    visible=False\n",
    ")\n"
   ]
  },
  {
   "cell_type": "code",
   "execution_count": 14,
   "id": "36be8499",
   "metadata": {},
   "outputs": [],
   "source": [
    "# Definitive Slices of the Bbox\n",
    "upper_corners = _3DBbox[\"cluster_u_corners\"][n_cluster]\n",
    "lower_corners = _3DBbox[\"cluster_l_corners\"][n_cluster]\n",
    "radius        = _3DBbox[\"cluster_radius\"][n_cluster]"
   ]
  },
  {
   "cell_type": "code",
   "execution_count": 15,
   "id": "f040f6d3",
   "metadata": {},
   "outputs": [],
   "source": [
    "# Upper Corners\n",
    "upper_1 = upper_corners[0]\n",
    "upper_2 = upper_corners[1]\n",
    "upper_3 = upper_corners[2]\n",
    "upper_4 = upper_corners[3]\n",
    "\n",
    "# Lower Corners\n",
    "lower_1 = lower_corners[0]\n",
    "lower_2 = lower_corners[1]\n",
    "lower_3 = lower_corners[2]\n",
    "lower_4 = lower_corners[3]"
   ]
  },
  {
   "cell_type": "code",
   "execution_count": 16,
   "id": "695bb2fb",
   "metadata": {},
   "outputs": [
    {
     "name": "stdout",
     "output_type": "stream",
     "text": [
      "Edge vectors for upper corners to lower corners:\n",
      "e1: [0.        0.        0.0519455]\n",
      "e2: [0.        0.        0.0519455]\n",
      "e3: [0.        0.        0.0519455]\n",
      "e4: [0.        0.        0.0519455]\n"
     ]
    }
   ],
   "source": [
    "# Edge Vectors for upper corners to Lower corners\n",
    "e1 = upper_1 - lower_1\n",
    "e2 = upper_2 - lower_2\n",
    "e3 = upper_3 - lower_3\n",
    "e4 = upper_4 - lower_4\n",
    "\n",
    "print(\"Edge vectors for upper corners to lower corners:\")\n",
    "print(\"e1:\", e1)\n",
    "print(\"e2:\", e2)\n",
    "print(\"e3:\", e3)\n",
    "print(\"e4:\", e4)"
   ]
  },
  {
   "cell_type": "code",
   "execution_count": 17,
   "id": "d629fd8b",
   "metadata": {},
   "outputs": [],
   "source": [
    "# Propagate a 3x3x3 grid in local coordinates into world space\n",
    "edge_length = np.linalg.norm(e1)  # assume all edges equal length\n",
    "grid_size = 10\n",
    "t_vals = np.linspace(0, 1, grid_size)\n",
    "\n",
    "# Generate slice planes and sub-bboxes\n",
    "subboxes = []\n",
    "for k in range(grid_size - 1):\n",
    "    t0, t1 = t_vals[k], t_vals[k + 1]\n",
    "    top_slice = upper_corners + (lower_corners - upper_corners) * t0\n",
    "    bottom_slice = upper_corners + (lower_corners - upper_corners) * t1\n",
    "    # Combine top and bottom for 8 corners\n",
    "    bbox_corners = np.vstack([top_slice, bottom_slice])\n",
    "    subboxes.append(bbox_corners)\n",
    "\n",
    "    pcd_slice = o3d.geometry.PointCloud()\n",
    "    pcd_slice.points = o3d.utility.Vector3dVector(bbox_corners)\n",
    "    pcd_slice.paint_uniform_color([1, 0, 0])  # red color for grids\n",
    "    pcd_slice.estimate_normals(search_param=o3d.geometry.KDTreeSearchParamHybrid(radius=0.1, max_nn=30))\n",
    "    # Grids\n",
    "    server.scene.add_point_cloud(\n",
    "        name=\"/slice/slice_{}_points\".format(k),\n",
    "        points=np.asarray(pcd_slice.points),\n",
    "        colors=np.asarray(pcd_slice.colors),\n",
    "        point_size=0.0002,\n",
    "        visible=True\n",
    "    )"
   ]
  },
  {
   "cell_type": "code",
   "execution_count": null,
   "id": "2c0f27fd",
   "metadata": {},
   "outputs": [
    {
     "name": "stdout",
     "output_type": "stream",
     "text": [
      "Max points:  9819\n"
     ]
    }
   ],
   "source": [
    "radiance = _3DBbox[\"radiance\"]\n",
    "points   = radiance[\"points\"][n_cluster]\n",
    "rgb      = radiance[\"rgb\"][n_cluster]\n",
    "\n",
    "points = points.cpu().numpy()\n",
    "rgb = rgb.cpu().numpy()\n",
    "\n",
    "# Filtering Points based on the sub-bboxes\n",
    "def filter_points_in_bbox(points, bbox_corners):\n",
    "    min_corner = np.min(bbox_corners, axis=0)\n",
    "    max_corner = np.max(bbox_corners, axis=0)\n",
    "    mask = np.all((points >= min_corner) & (points <= max_corner), axis=1)\n",
    "    return points[mask]\n",
    "\n",
    "slice_points = {}\n",
    "slice_points[\"points\"] = []\n",
    "slice_points[\"plane\"] = []\n",
    "slice_points[\"rgb\"] = []\n",
    "slice_points[\"slice_corner\"] = []\n",
    "slice_points[\"slice_center\"] = []\n",
    "slice_points[\"max_points\"] = np.max([len(x) for x in radiance[\"points\"]])\n",
    "print(\"Max points: \", slice_points[\"max_points\"])\n",
    "\n",
    "# Visualize filtered points for each sub-bbox\n",
    "for k, bbox_corners in enumerate(subboxes):\n",
    "    filtered_points = filter_points_in_bbox(points, bbox_corners)\n",
    "    filtered_rgb = rgb[np.all((points >= np.min(bbox_corners, axis=0)) & (points <= np.max(bbox_corners, axis=0)), axis=1)]\n",
    "\n",
    "    slice_points[\"rgb\"].append(filtered_rgb)\n",
    "    slice_points[\"points\"].append(filtered_points)\n",
    "\n",
    "    # Modify Z of each point to match the slice level\n",
    "    z_level = (bbox_corners[0, 2] + bbox_corners[1, 2]) / 2\n",
    "    filtered_points[:, 2] = z_level\n",
    "\n",
    "    # Create slice_corners and transform them to the correct level\n",
    "    slice_corners = np.array([\n",
    "        [bbox_corners[0, 0], bbox_corners[0, 1], z_level],\n",
    "        [bbox_corners[1, 0], bbox_corners[1, 1], z_level],\n",
    "        [bbox_corners[2, 0], bbox_corners[2, 1], z_level],\n",
    "        [bbox_corners[3, 0], bbox_corners[3, 1], z_level]\n",
    "    ])\n",
    "    slice_points[\"slice_corner\"].append(slice_corners)\n",
    "    slice_points[\"slice_center\"].append(np.mean(slice_corners, axis=0))\n",
    "\n",
    "    slice_points[\"plane\"].append(filtered_points)\n",
    "\n",
    "    pcd_filtered = o3d.geometry.PointCloud()\n",
    "    pcd_filtered.points = o3d.utility.Vector3dVector(filtered_points)\n",
    "    pcd_filtered.colors = o3d.utility.Vector3dVector(filtered_rgb)\n",
    "\n",
    "    server.scene.add_point_cloud(\n",
    "        name=\"/filtered_points/slice_{}_filtered\".format(k),\n",
    "        points=np.asarray(pcd_filtered.points),\n",
    "        colors=np.asarray(pcd_filtered.colors),\n",
    "        point_size=0.0005,\n",
    "        visible=True\n",
    "    )\n",
    "\n",
    "torch.save(slice_points, \"/workspace/FruitProposal/attachment/RadianceCloud/slice_points.pt\")\n",
    "\n",
    "while True:\n",
    "    x = input(\"Press Enter to continue...\")\n",
    "    if x == \"\":\n",
    "        break"
   ]
  },
  {
   "cell_type": "code",
   "execution_count": null,
   "id": "697b2723",
   "metadata": {},
   "outputs": [],
   "source": []
  }
 ],
 "metadata": {
  "kernelspec": {
   "display_name": "Python 3",
   "language": "python",
   "name": "python3"
  },
  "language_info": {
   "codemirror_mode": {
    "name": "ipython",
    "version": 3
   },
   "file_extension": ".py",
   "mimetype": "text/x-python",
   "name": "python",
   "nbconvert_exporter": "python",
   "pygments_lexer": "ipython3",
   "version": "3.10.12"
  }
 },
 "nbformat": 4,
 "nbformat_minor": 5
}
