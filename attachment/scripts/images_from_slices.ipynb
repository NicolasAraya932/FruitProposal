{
 "cells": [
  {
   "cell_type": "code",
   "execution_count": 1,
   "id": "d14934a0",
   "metadata": {},
   "outputs": [
    {
     "name": "stdout",
     "output_type": "stream",
     "text": [
      "Jupyter environment detected. Enabling Open3D WebVisualizer.\n",
      "[Open3D INFO] WebRTC GUI backend enabled.\n",
      "[Open3D INFO] WebRTCWindowSystem: HTTP handshake server disabled.\n"
     ]
    }
   ],
   "source": [
    "# Libraries\n",
    "import open3d as o3d\n",
    "import viser\n",
    "import torch\n",
    "import numpy as np\n",
    "import cv2"
   ]
  },
  {
   "cell_type": "code",
   "execution_count": 2,
   "id": "a86d95ad",
   "metadata": {},
   "outputs": [
    {
     "name": "stdout",
     "output_type": "stream",
     "text": [
      "dict_keys(['points', 'plane', 'rgb', 'slice_corner', 'slice_center'])\n",
      "(2733, 3) (2733, 3) (2733, 3) (9, 3) (9, 4, 3)\n"
     ]
    }
   ],
   "source": [
    "#@title Importing the Clusters with It's radiances\n",
    "slices = torch.load(\"/workspace/FruitProposal/attachment/RadianceCloud/slice_points.pt\")\n",
    "print(slices.keys())\n",
    "\n",
    "planes  = slices['plane']\n",
    "points  = slices['points']\n",
    "rgbs    = slices['rgb']\n",
    "centers = slices['slice_center']\n",
    "corners = slices['slice_corner']\n",
    "\n",
    "print(planes.shape, points.shape, rgbs.shape, centers.shape, corners.shape)"
   ]
  },
  {
   "cell_type": "code",
   "execution_count": null,
   "id": "e0f87693",
   "metadata": {},
   "outputs": [
    {
     "name": "stdout",
     "output_type": "stream",
     "text": [
      "[[0.24521568 0.18485084 1.        ]\n",
      " [0.2971612  0.18485084 1.        ]\n",
      " [0.24521568 0.23679635 1.        ]\n",
      " [0.2971612  0.23679635 1.        ]\n",
      " [0.24521568 0.18485084 1.        ]\n",
      " [0.2971612  0.18485084 1.        ]\n",
      " [0.24521568 0.23679635 1.        ]\n",
      " [0.2971612  0.23679635 1.        ]\n",
      " [0.24521568 0.18485084 1.        ]\n",
      " [0.2971612  0.18485084 1.        ]\n",
      " [0.24521568 0.23679635 1.        ]\n",
      " [0.2971612  0.23679635 1.        ]\n",
      " [0.24521568 0.18485084 1.        ]\n",
      " [0.2971612  0.18485084 1.        ]\n",
      " [0.24521568 0.23679635 1.        ]\n",
      " [0.2971612  0.23679635 1.        ]\n",
      " [0.24521568 0.18485084 1.        ]\n",
      " [0.2971612  0.18485084 1.        ]\n",
      " [0.24521568 0.23679635 1.        ]\n",
      " [0.2971612  0.23679635 1.        ]\n",
      " [0.24521568 0.18485084 1.        ]\n",
      " [0.2971612  0.18485084 1.        ]\n",
      " [0.24521568 0.23679635 1.        ]\n",
      " [0.2971612  0.23679635 1.        ]\n",
      " [0.24521568 0.18485084 1.        ]\n",
      " [0.2971612  0.18485084 1.        ]\n",
      " [0.24521568 0.23679635 1.        ]\n",
      " [0.2971612  0.23679635 1.        ]\n",
      " [0.24521568 0.18485084 1.        ]\n",
      " [0.2971612  0.18485084 1.        ]\n",
      " [0.24521568 0.23679635 1.        ]\n",
      " [0.2971612  0.23679635 1.        ]\n",
      " [0.24521568 0.18485084 1.        ]\n",
      " [0.2971612  0.18485084 1.        ]\n",
      " [0.24521568 0.23679635 1.        ]\n",
      " [0.2971612  0.23679635 1.        ]]\n"
     ]
    },
    {
     "data": {
      "text/html": [
       "<pre style=\"white-space:pre;overflow-x:auto;line-height:normal;font-family:Menlo,'DejaVu Sans Mono',consolas,'Courier New',monospace\">╭─────────────── <span style=\"font-weight: bold\">viser</span> ───────────────╮\n",
       "│             ╷                       │\n",
       "│   HTTP      │ http://0.0.0.0:8080   │\n",
       "│   Websocket │ ws://0.0.0.0:8080     │\n",
       "│             ╵                       │\n",
       "╰─────────────────────────────────────╯\n",
       "</pre>\n"
      ],
      "text/plain": [
       "╭─────────────── \u001b[1mviser\u001b[0m ───────────────╮\n",
       "│             ╷                       │\n",
       "│   HTTP      │ http://0.0.0.0:8080   │\n",
       "│   Websocket │ ws://0.0.0.0:8080     │\n",
       "│             ╵                       │\n",
       "╰─────────────────────────────────────╯\n"
      ]
     },
     "metadata": {},
     "output_type": "display_data"
    },
    {
     "data": {
      "text/plain": [
       "PointCloudHandle(_impl=_SceneNodeHandleState(name='/centers', api=<viser._scene_api.SceneApi object at 0x7f92ab5e1360>, wxyz=array([1., 0., 0., 0.]), position=array([0., 0., 0.]), visible=True, click_cb=None))"
      ]
     },
     "execution_count": 3,
     "metadata": {},
     "output_type": "execute_result"
    }
   ],
   "source": [
    "# planes, points, centers and corners preprocessing\n",
    "_planes = planes.copy()\n",
    "_centers = centers.copy()\n",
    "_corners = []\n",
    "\n",
    "# To remplace z=n to z=1 all cases planes, centers and corners\n",
    "_planes[:, 2] = 1.0\n",
    "_centers[:, 2] = 1.0\n",
    "\n",
    "\n",
    "_displayed_corners = []\n",
    "for c in _corners:\n",
    "    c[:,2] = 1.0\n",
    "    _corners.append(c)\n",
    "    for i in c:\n",
    "        _displayed_corners.append(i)\n",
    "\n",
    "_corners = np.array(_corners)\n",
    "_displayed_corners = np.array(_displayed_corners)\n",
    "print(_displayed_corners)\n",
    "\n",
    "\n",
    "# Converting to Open3D PointCloud\n",
    "pcd_planes = o3d.geometry.PointCloud()\n",
    "pcd_planes.points = o3d.utility.Vector3dVector(_planes)\n",
    "pcd_planes.colors = o3d.utility.Vector3dVector(rgbs)\n",
    "\n",
    "pcd_corners = o3d.geometry.PointCloud()\n",
    "pcd_corners.points = o3d.utility.Vector3dVector(_displayed_corners)\n",
    "pcd_corners.colors = o3d.utility.Vector3dVector(np.ones_like(_displayed_corners) * [1, 0, 0])  # Green color for corners\n",
    "\n",
    "pcd_centers = o3d.geometry.PointCloud()\n",
    "pcd_centers.points = o3d.utility.Vector3dVector(_centers)\n",
    "pcd_centers.colors = o3d.utility.Vector3dVector(np.ones_like(_centers) * [0, 1, 0])  # Red color for centers\n",
    "\n",
    "# Initializing the visualizer server\n",
    "server = viser.ViserServer()\n",
    "\n",
    "# Adding the point cloud to the server\n",
    "server.scene.add_point_cloud(\n",
    "    name=\"/planes\",\n",
    "    points=np.asarray(pcd_planes.points),\n",
    "    colors=np.asarray(pcd_planes.colors),\n",
    "    point_size=0.0005,\n",
    "    visible=True\n",
    "    )\n",
    "\n",
    "server.scene.add_point_cloud(\n",
    "    name=\"/corners\",\n",
    "    points=np.asarray(pcd_corners.points),\n",
    "    colors=np.asarray(pcd_corners.colors),\n",
    "    point_size=0.01,\n",
    "    visible=True\n",
    ")\n",
    "\n",
    "server.scene.add_point_cloud(\n",
    "    name=\"/centers\",\n",
    "    points=np.asarray(pcd_centers.points),\n",
    "    colors=np.asarray(pcd_centers.colors),\n",
    "    point_size=0.01,\n",
    "    visible=True\n",
    ")\n",
    "\n",
    "# while True:\n",
    "#     x = input(\"Press Enter to continue...\")\n",
    "#     if x == \"\":\n",
    "#         break\n",
    "\n"
   ]
  },
  {
   "cell_type": "code",
   "execution_count": null,
   "id": "9f37dd53",
   "metadata": {},
   "outputs": [
    {
     "name": "stdout",
     "output_type": "stream",
     "text": [
      "[[512.   0. 256.]\n",
      " [  0. 512. 256.]\n",
      " [  0.   0.   1.]]\n"
     ]
    },
    {
     "ename": "IndexError",
     "evalue": "too many indices for array: array is 1-dimensional, but 2 were indexed",
     "output_type": "error",
     "traceback": [
      "\u001b[0;31m---------------------------------------------------------------------------\u001b[0m",
      "\u001b[0;31mIndexError\u001b[0m                                Traceback (most recent call last)",
      "Cell \u001b[0;32mIn[4], line 19\u001b[0m\n\u001b[1;32m     13\u001b[0m \u001b[38;5;28mprint\u001b[39m(intrinsic)\n\u001b[1;32m     15\u001b[0m \u001b[38;5;28;01mfor\u001b[39;00m k, (pts, plane, rgb, corners_k, center_k) \u001b[38;5;129;01min\u001b[39;00m \u001b[38;5;28menumerate\u001b[39m(\n\u001b[1;32m     16\u001b[0m         \u001b[38;5;28mzip\u001b[39m(points, planes, rgbs, corners, centers, strict\u001b[38;5;241m=\u001b[39m\u001b[38;5;28;01mFalse\u001b[39;00m)):\n\u001b[1;32m     17\u001b[0m \n\u001b[1;32m     18\u001b[0m     \u001b[38;5;66;03m# 1) elevar la slice por encima de Z=0\u001b[39;00m\n\u001b[0;32m---> 19\u001b[0m     z0      \u001b[38;5;241m=\u001b[39m \u001b[43mplane\u001b[49m\u001b[43m[\u001b[49m\u001b[43m:\u001b[49m\u001b[43m,\u001b[49m\u001b[43m \u001b[49m\u001b[38;5;241;43m2\u001b[39;49m\u001b[43m]\u001b[49m\u001b[38;5;241m.\u001b[39mmin()\n\u001b[1;32m     20\u001b[0m     shift_z \u001b[38;5;241m=\u001b[39m \u001b[38;5;28mmax\u001b[39m(\u001b[38;5;241m0.05\u001b[39m \u001b[38;5;241m-\u001b[39m z0, \u001b[38;5;241m0.0\u001b[39m)\n\u001b[1;32m     22\u001b[0m     \u001b[38;5;66;03m# 2) calcular R usando esquinas desplazadas\u001b[39;00m\n",
      "\u001b[0;31mIndexError\u001b[0m: too many indices for array: array is 1-dimensional, but 2 were indexed"
     ]
    },
    {
     "data": {
      "text/html": [
       "<pre style=\"white-space:pre;overflow-x:auto;line-height:normal;font-family:Menlo,'DejaVu Sans Mono',consolas,'Courier New',monospace\"><span style=\"font-weight: bold\">(viser)</span> Connection opened <span style=\"font-weight: bold\">(</span><span style=\"color: #008080; text-decoration-color: #008080; font-weight: bold\">0</span>, <span style=\"color: #008080; text-decoration-color: #008080; font-weight: bold\">1</span> total<span style=\"font-weight: bold\">)</span>, <span style=\"color: #008080; text-decoration-color: #008080; font-weight: bold\">16</span> persistent messages\n",
       "</pre>\n"
      ],
      "text/plain": [
       "\u001b[1m(\u001b[0m\u001b[1mviser\u001b[0m\u001b[1m)\u001b[0m Connection opened \u001b[1m(\u001b[0m\u001b[1;36m0\u001b[0m, \u001b[1;36m1\u001b[0m total\u001b[1m)\u001b[0m, \u001b[1;36m16\u001b[0m persistent messages\n"
      ]
     },
     "metadata": {},
     "output_type": "display_data"
    },
    {
     "data": {
      "text/html": [
       "<pre style=\"white-space:pre;overflow-x:auto;line-height:normal;font-family:Menlo,'DejaVu Sans Mono',consolas,'Courier New',monospace\"><span style=\"font-weight: bold\">(viser)</span> Connection closed <span style=\"font-weight: bold\">(</span><span style=\"color: #008080; text-decoration-color: #008080; font-weight: bold\">0</span>, <span style=\"color: #008080; text-decoration-color: #008080; font-weight: bold\">0</span> total<span style=\"font-weight: bold\">)</span>\n",
       "</pre>\n"
      ],
      "text/plain": [
       "\u001b[1m(\u001b[0m\u001b[1mviser\u001b[0m\u001b[1m)\u001b[0m Connection closed \u001b[1m(\u001b[0m\u001b[1;36m0\u001b[0m, \u001b[1;36m0\u001b[0m total\u001b[1m)\u001b[0m\n"
      ]
     },
     "metadata": {},
     "output_type": "display_data"
    },
    {
     "data": {
      "text/html": [
       "<pre style=\"white-space:pre;overflow-x:auto;line-height:normal;font-family:Menlo,'DejaVu Sans Mono',consolas,'Courier New',monospace\"><span style=\"font-weight: bold\">(viser)</span> Connection opened <span style=\"font-weight: bold\">(</span><span style=\"color: #008080; text-decoration-color: #008080; font-weight: bold\">1</span>, <span style=\"color: #008080; text-decoration-color: #008080; font-weight: bold\">1</span> total<span style=\"font-weight: bold\">)</span>, <span style=\"color: #008080; text-decoration-color: #008080; font-weight: bold\">16</span> persistent messages\n",
       "</pre>\n"
      ],
      "text/plain": [
       "\u001b[1m(\u001b[0m\u001b[1mviser\u001b[0m\u001b[1m)\u001b[0m Connection opened \u001b[1m(\u001b[0m\u001b[1;36m1\u001b[0m, \u001b[1;36m1\u001b[0m total\u001b[1m)\u001b[0m, \u001b[1;36m16\u001b[0m persistent messages\n"
      ]
     },
     "metadata": {},
     "output_type": "display_data"
    }
   ],
   "source": [
    "# Precompute intrinsics once\n",
    "z_cam = np.array([0, 0, -1])\n",
    "W = H = 512\n",
    "cx = W / 2\n",
    "cy = H / 2\n",
    "fxy = W\n",
    "intrinsic = np.array([\n",
    "    [fxy,   0,  cx],\n",
    "    [  0, fxy,  cy],\n",
    "    [  0,   0,   1]\n",
    "])\n",
    "\n",
    "e       = _corners[0][0] - _corners[0][1]\n",
    "e_norm  = np.linalg.norm(e)\n",
    "y_cam   = e / e_norm\n",
    "x_cam   = np.cross(y_cam, z_cam);  x_cam /= np.linalg.norm(x_cam)\n",
    "y_cam   = np.cross(z_cam, x_cam);  y_cam /= np.linalg.norm(y_cam)\n",
    "R       = np.column_stack((x_cam, y_cam, z_cam))\n",
    "\n",
    "for k, (pts, plane, rgb, corners_k, center_k) in enumerate(\n",
    "        zip(points, planes, rgbs, corners, centers, strict=False)):\n",
    "\n",
    "    # 1) elevar la slice por encima de Z=0\n",
    "    z0      = plane[:, 2].min()\n",
    "    shift_z = max(0.05 - z0, 0.0)\n",
    "\n",
    "    # 3) posición inicial de la cámara\n",
    "    center_shift = center_k.copy()\n",
    "    center_shift[2] += shift_z\n",
    "    Ccam = center_shift + np.array([0, 0, e_norm])\n",
    "\n",
    "    # --- ajuste fino: centrar la proyección del centro del slice ---\n",
    "    Xc_center = R @ (center_shift - Ccam)\n",
    "    uvw_c     = intrinsic @ Xc_center\n",
    "    u_c, v_c  = uvw_c[0]/uvw_c[2], uvw_c[1]/uvw_c[2]\n",
    "    delta_u, delta_v = cx - u_c, cy - v_c\n",
    "\n",
    "    # pasar de píxeles a desplazamiento en el espacio de cámara\n",
    "    # un píxel en x corresponde a 1/fxy unidades en x_cam, igual para y\n",
    "    Ccam = Ccam - (delta_u / fxy) * x_cam - (delta_v / fxy) * y_cam\n",
    "\n",
    "    # 4) preparar lienzo\n",
    "    void_image = np.zeros((H, W, 3), dtype=np.uint8)\n",
    "\n",
    "    # 5) proyectar cada punto\n",
    "    for pt, col in zip(plane, rgb):\n",
    "        p = pt.copy();  p[2] += shift_z\n",
    "        Xw_cam0 = p - Ccam\n",
    "        Xc      = R @ Xw_cam0\n",
    "        if Xc[2] <= 0:\n",
    "            continue\n",
    "\n",
    "        uvw = intrinsic @ Xc\n",
    "        u, v = uvw[0]/uvw[2], uvw[1]/uvw[2]\n",
    "        ui, vi = int(round(u)), int(round(v))\n",
    "        if 0 <= ui < W and 0 <= vi < H:\n",
    "            void_image[vi, ui] = (np.array(col)*255).astype(np.uint8)[::-1]\n",
    "\n",
    "    # 6) dilatar y guardar\n",
    "    kernel = np.ones((3,3), np.uint8)\n",
    "    out = cv2.dilate(void_image, kernel, iterations=5)\n",
    "    cv2.imwrite(f\"/workspace/FruitProposal/attachment/RadianceCloud/images/slice_{k}.png\", out)\n"
   ]
  },
  {
   "cell_type": "code",
   "execution_count": null,
   "id": "ad7558a5",
   "metadata": {},
   "outputs": [],
   "source": []
  }
 ],
 "metadata": {
  "kernelspec": {
   "display_name": "Python 3",
   "language": "python",
   "name": "python3"
  },
  "language_info": {
   "codemirror_mode": {
    "name": "ipython",
    "version": 3
   },
   "file_extension": ".py",
   "mimetype": "text/x-python",
   "name": "python",
   "nbconvert_exporter": "python",
   "pygments_lexer": "ipython3",
   "version": "3.10.12"
  }
 },
 "nbformat": 4,
 "nbformat_minor": 5
}
