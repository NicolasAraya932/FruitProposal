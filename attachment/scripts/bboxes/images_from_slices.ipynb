{
 "cells": [
  {
   "cell_type": "code",
   "execution_count": 1,
   "id": "d14934a0",
   "metadata": {},
   "outputs": [
    {
     "name": "stdout",
     "output_type": "stream",
     "text": [
      "Jupyter environment detected. Enabling Open3D WebVisualizer.\n",
      "[Open3D INFO] WebRTC GUI backend enabled.\n",
      "[Open3D INFO] WebRTCWindowSystem: HTTP handshake server disabled.\n"
     ]
    }
   ],
   "source": [
    "# Libraries\n",
    "import open3d as o3d\n",
    "import viser\n",
    "import torch\n",
    "import numpy as np\n",
    "import cv2"
   ]
  },
  {
   "cell_type": "code",
   "execution_count": 2,
   "id": "a86d95ad",
   "metadata": {},
   "outputs": [
    {
     "name": "stdout",
     "output_type": "stream",
     "text": [
      "dict_keys(['points', 'plane', 'rgb', 'slice_corner', 'slice_center'])\n",
      "(49,) (49,) (49,) (49, 3) (49, 4, 3)\n",
      "[] [] [] [ 0.27118844  0.2108236  -0.0116659 ] [[ 0.24521568  0.18485084 -0.0116659 ]\n",
      " [ 0.2971612   0.18485084 -0.0116659 ]\n",
      " [ 0.24521568  0.23679635 -0.0116659 ]\n",
      " [ 0.2971612   0.23679635 -0.0116659 ]]\n"
     ]
    }
   ],
   "source": [
    "#@title Importing the Clusters with It's radiances\n",
    "slices = torch.load(\"/workspace/FruitProposal/attachment/RadianceCloud/slice_points.pt\")\n",
    "print(slices.keys())\n",
    "\n",
    "planes  = slices['plane']\n",
    "points  = slices['points']\n",
    "rgbs    = slices['rgb']\n",
    "centers = slices['slice_center']\n",
    "corners = slices['slice_corner']\n",
    "\n",
    "print(planes.shape, points.shape, rgbs.shape, centers.shape, corners.shape)\n",
    "print(planes[0], points[0], rgbs[0], centers[0], corners[0])"
   ]
  },
  {
   "cell_type": "code",
   "execution_count": 3,
   "id": "e0f87693",
   "metadata": {},
   "outputs": [],
   "source": [
    "# Forzamos z=1\n",
    "_planes = [plane.copy() for plane in planes]\n",
    "for plane in _planes:\n",
    "    plane[:,2] = 1.0\n",
    "_centers  = centers.copy();  _centers[:,2]  = 1.0\n",
    "\n",
    "_corners  = [c.copy() for c in corners]\n",
    "for c in _corners:\n",
    "    c[:,2] = 1.0"
   ]
  },
  {
   "cell_type": "code",
   "execution_count": 4,
   "id": "4467d687",
   "metadata": {},
   "outputs": [
    {
     "name": "stdout",
     "output_type": "stream",
     "text": [
      "R\n",
      " [[-0. -1.  0.]\n",
      " [-1.  0.  0.]\n",
      " [-0.  0. -1.]]\n"
     ]
    }
   ],
   "source": [
    "# 1) Calcular R solo una vez (misma orientación para todas)\n",
    "z_cam    = np.array([0,0,-1], dtype=np.float32)\n",
    "e        = _corners[0][0] - _corners[0][1]\n",
    "e_norm   = np.linalg.norm(e)\n",
    "y_cam    = e / e_norm\n",
    "x_cam    = np.cross(y_cam, z_cam); x_cam /= np.linalg.norm(x_cam)\n",
    "y_cam    = np.cross(z_cam, x_cam); y_cam /= np.linalg.norm(y_cam)\n",
    "R        = np.column_stack((x_cam, y_cam, z_cam))\n",
    "print(\"R\\n\", R)\n"
   ]
  },
  {
   "cell_type": "code",
   "execution_count": 5,
   "id": "ff433e78",
   "metadata": {},
   "outputs": [
    {
     "name": "stdout",
     "output_type": "stream",
     "text": [
      "Intrinsic\n",
      " [[512.   0. 256.]\n",
      " [  0. 512. 256.]\n",
      " [  0.   0.   1.]]\n"
     ]
    }
   ],
   "source": [
    "# 2) Intrínsecos\n",
    "W = H = 512\n",
    "cx = cy = W/2\n",
    "fxy      = W\n",
    "intrinsic = np.array([\n",
    "    [fxy,   0, cx],\n",
    "    [  0, fxy, cy],\n",
    "    [  0,   0,  1]\n",
    "], dtype=np.float32)\n",
    "print(\"Intrinsic\\n\", intrinsic)"
   ]
  },
  {
   "cell_type": "code",
   "execution_count": 6,
   "id": "5a8a7813",
   "metadata": {},
   "outputs": [],
   "source": [
    "# 3) Bucle por cada slice\n",
    "for k, (plane_k, rgb_k, center_k) in enumerate(\n",
    "        zip(_planes, rgbs, _centers)):\n",
    "\n",
    "    # Renderizar slice\n",
    "    void_image = np.zeros((H, W, 3), dtype=np.uint8)\n",
    "\n",
    "    # Posición inicial de la cámara sobre el centro del slice\n",
    "    C = center_k + np.array([0,0,e_norm], dtype=np.float32)\n",
    "    t = -R @ C\n",
    "\n",
    "    for pt, color in zip(plane_k, rgb_k):\n",
    "\n",
    "        Xc = R @ pt.T + t\n",
    "        uvw = intrinsic @ Xc\n",
    "        u, v = uvw[0]/uvw[2], uvw[1]/uvw[2]\n",
    "\n",
    "        ui, vi = int(round(u)), int(round(v))\n",
    "        if 0 <= ui < W and 0 <= vi < H:\n",
    "            void_image[vi, ui] = color * 255\n",
    "\n",
    "    # 3.4) Dilatación y guardado\n",
    "    kernel = np.ones((3,3), np.uint8)\n",
    "    out    = cv2.dilate(cv2.cvtColor(void_image, cv2.COLOR_RGB2BGR), kernel, iterations=5)\n",
    "    cv2.imwrite(f\"/workspace/FruitProposal/attachment/RadianceCloud/images/slice_{k}.png\", out)\n",
    "    out_hsv    = cv2.dilate(cv2.cvtColor(void_image, cv2.COLOR_RGB2HSV), kernel, iterations=5)\n",
    "    cv2.imwrite(f\"/workspace/FruitProposal/attachment/RadianceCloud/images/slice_hsv_{k}.png\", out_hsv)"
   ]
  },
  {
   "cell_type": "code",
   "execution_count": 8,
   "id": "ad7558a5",
   "metadata": {},
   "outputs": [
    {
     "data": {
      "image/png": "[encoded data removed]",
      "text/plain": [
       "<Figure size 640x480 with 1 Axes>"
      ]
     },
     "metadata": {},
     "output_type": "display_data"
    }
   ],
   "source": [
    "from matplotlib import pyplot as plt\n",
    "# Visualizar el último slice\n",
    "plt.imshow(cv2.dilate(void_image, kernel, iterations=5))\n",
    "plt.axis('off')\n",
    "plt.title(f\"Slice {k}\")\n",
    "plt.show()"
   ]
  }
 ],
 "metadata": {
  "kernelspec": {
   "display_name": "Python 3",
   "language": "python",
   "name": "python3"
  },
  "language_info": {
   "codemirror_mode": {
    "name": "ipython",
    "version": 3
   },
   "file_extension": ".py",
   "mimetype": "text/x-python",
   "name": "python",
   "nbconvert_exporter": "python",
   "pygments_lexer": "ipython3",
   "version": "3.10.12"
  }
 },
 "nbformat": 4,
 "nbformat_minor": 5
}
