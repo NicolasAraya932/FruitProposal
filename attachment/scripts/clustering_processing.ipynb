{
 "cells": [
  {
   "cell_type": "code",
   "execution_count": null,
   "id": "90b46433",
   "metadata": {},
   "outputs": [
    {
     "name": "stdout",
     "output_type": "stream",
     "text": [
      "Jupyter environment detected. Enabling Open3D WebVisualizer.\n",
      "[Open3D INFO] WebRTC GUI backend enabled.\n",
      "[Open3D INFO] WebRTCWindowSystem: HTTP handshake server disabled.\n"
     ]
    }
   ],
   "source": [
    "# Libraries\n",
    "import open3d as o3d\n",
    "import viser\n",
    "import torch\n",
    "import numpy as np"
   ]
  },
  {
   "cell_type": "code",
   "execution_count": 2,
   "id": "8a5ba8f4",
   "metadata": {},
   "outputs": [
    {
     "name": "stdout",
     "output_type": "stream",
     "text": [
      "Number of Clusters:  259\n",
      "dict_keys(['cluster_center', 'cluster_radius', 'cluster_corners', 'cluster_mask', 'radiance'])\n"
     ]
    }
   ],
   "source": [
    "#@title Importing the Clusters with It's radiances\n",
    "_3DBbox = torch.load(\"/workspace/FruitProposal/attachment/RadianceCloud/fruit_proposal_clusters_output.pt\")\n",
    "\n",
    "print(\"Number of Clusters: \", len(_3DBbox[\"cluster_center\"]))\n",
    "print(_3DBbox.keys())"
   ]
  },
  {
   "cell_type": "code",
   "execution_count": 3,
   "id": "8175edcb",
   "metadata": {},
   "outputs": [
    {
     "name": "stdout",
     "output_type": "stream",
     "text": [
      "0.014685145812109113\n",
      "Edge vectors:\n",
      "e1: [0.03137028 0.         0.        ]\n",
      "e2: [0.         0.03137029 0.        ]\n",
      "e3: [0.03137028 0.03137029 0.03137029]\n",
      "Local-to-world rotation matrix:\n",
      "[[1. 0. 0.]\n",
      " [0. 1. 0.]\n",
      " [0. 0. 1.]]\n"
     ]
    },
    {
     "data": {
      "text/html": [
       "<pre style=\"white-space:pre;overflow-x:auto;line-height:normal;font-family:Menlo,'DejaVu Sans Mono',consolas,'Courier New',monospace\">╭─────────────── <span style=\"font-weight: bold\">viser</span> ───────────────╮\n",
       "│             ╷                       │\n",
       "│   HTTP      │ http://0.0.0.0:8080   │\n",
       "│   Websocket │ ws://0.0.0.0:8080     │\n",
       "│             ╵                       │\n",
       "╰─────────────────────────────────────╯\n",
       "</pre>\n"
      ],
      "text/plain": [
       "╭─────────────── \u001b[1mviser\u001b[0m ───────────────╮\n",
       "│             ╷                       │\n",
       "│   HTTP      │ http://0.0.0.0:8080   │\n",
       "│   Websocket │ ws://0.0.0.0:8080     │\n",
       "│             ╵                       │\n",
       "╰─────────────────────────────────────╯\n"
      ]
     },
     "metadata": {},
     "output_type": "display_data"
    },
    {
     "data": {
      "text/html": [
       "<pre style=\"white-space:pre;overflow-x:auto;line-height:normal;font-family:Menlo,'DejaVu Sans Mono',consolas,'Courier New',monospace\"><span style=\"font-weight: bold\">(viser)</span> Connection opened <span style=\"font-weight: bold\">(</span><span style=\"color: #008080; text-decoration-color: #008080; font-weight: bold\">0</span>, <span style=\"color: #008080; text-decoration-color: #008080; font-weight: bold\">1</span> total<span style=\"font-weight: bold\">)</span>, <span style=\"color: #008080; text-decoration-color: #008080; font-weight: bold\">16</span> persistent messages\n",
       "</pre>\n"
      ],
      "text/plain": [
       "\u001b[1m(\u001b[0m\u001b[1mviser\u001b[0m\u001b[1m)\u001b[0m Connection opened \u001b[1m(\u001b[0m\u001b[1;36m0\u001b[0m, \u001b[1;36m1\u001b[0m total\u001b[1m)\u001b[0m, \u001b[1;36m16\u001b[0m persistent messages\n"
      ]
     },
     "metadata": {},
     "output_type": "display_data"
    }
   ],
   "source": [
    "#TEST\n",
    "radiance = _3DBbox[\"radiance\"]\n",
    "# Obtaining the graph nodes\n",
    "corners = _3DBbox[\"cluster_corners\"][0]\n",
    "center = _3DBbox[\"cluster_center\"][0]\n",
    "radius = _3DBbox[\"cluster_radius\"][0]\n",
    "\n",
    "points = radiance[\"points\"][0]\n",
    "rgb    = radiance[\"rgb\"][0]\n",
    "\n",
    "print(radius)\n",
    "\n",
    "# 1) Choose v1 = corner[0] (x_min,y_min,z_min)\n",
    "v1 = corners[0]\n",
    "v2 = corners[1]\n",
    "v3 = corners[2]\n",
    "v4 = corners[4]\n",
    "\n",
    "# Compute edge vectors\n",
    "e1 = v2 - v1\n",
    "e2 = v3 - v1\n",
    "e3 = v4 - v1\n",
    "\n",
    "print(\"Edge vectors:\")\n",
    "print(\"e1:\", e1)\n",
    "print(\"e2:\", e2)\n",
    "print(\"e3:\", e3)\n",
    "\n",
    "# Normalize to get unit directions\n",
    "u1 = e1 / np.linalg.norm(e1)\n",
    "u2 = e2 / np.linalg.norm(e2)\n",
    "u3 = e3 / np.linalg.norm(e3)\n",
    "\n",
    "# Build local-to-world rotation matrix\n",
    "R_local_to_world = np.eye(3,3) # np.column_stack((u1, u2, u3))\n",
    "\n",
    "print(\"Local-to-world rotation matrix:\")\n",
    "print(R_local_to_world)\n",
    "\n",
    "# Propagate a 3x3x3 grid in local coordinates into world space\n",
    "edge_length = np.linalg.norm(e1)  # assume all edges equal length\n",
    "grid_size = 30\n",
    "points_world = []\n",
    "for i in range(grid_size):\n",
    "    for j in range(grid_size):\n",
    "        for k in range(grid_size):\n",
    "            local_pt = np.array([i, j, k]) * (edge_length / (grid_size - 1))\n",
    "            world_pt = v1 + R_local_to_world @ local_pt\n",
    "            points_world.append(world_pt)\n",
    "points_world = np.array(points_world)\n",
    "\n",
    "\n",
    "pcd_c_grids = o3d.geometry.PointCloud()\n",
    "pcd_c_grids.points = o3d.utility.Vector3dVector(points_world)\n",
    "pcd_c_grids.paint_uniform_color([0.5, 0.5, 0.5])  # Gray color for grids\n",
    "pcd_c_grids.estimate_normals(search_param=o3d.geometry.KDTreeSearchParamHybrid(radius=0.1, max_nn=30))\n",
    "# Visualize the point cloud with grids using viser\n",
    "\n",
    "viser = viser.ViserServer()\n",
    "\n",
    "# Grids\n",
    "viser.scene.add_point_cloud(\n",
    "    name=\"/grid_points\",\n",
    "    points=np.asarray(pcd_c_grids.points),\n",
    "    colors=np.asarray(pcd_c_grids.colors),\n",
    "    point_size=0.0002,\n",
    "    visible=True\n",
    ")\n",
    "\n",
    "# Bbox\n",
    "viser.scene.add_box(\n",
    "    name=f\"/bbox_cube/cluster_0_box\",\n",
    "    position=center,\n",
    "    dimensions=np.array([radius * 2, radius * 2, radius * 2]),\n",
    "    color=np.array([1.0, 0.0, 0.0]),  # black\n",
    "    visible=True\n",
    ")\n",
    "\n",
    "# Radiance Points\n",
    "pcd_radiance = o3d.geometry.PointCloud()\n",
    "pcd_radiance.points = o3d.utility.Vector3dVector(points)\n",
    "pcd_radiance.colors = o3d.utility.Vector3dVector(rgb)\n",
    "viser.scene.add_point_cloud(\n",
    "    name=\"/radiance_points\",\n",
    "    points=np.asarray(pcd_radiance.points),\n",
    "    colors=np.asarray(pcd_radiance.colors),\n",
    "    point_size=0.0002,\n",
    "    visible=True\n",
    ")\n",
    "\n",
    "while True:\n",
    "    x = input(\"Press Enter to continue...\")\n",
    "    if x == \"\":\n",
    "        break"
   ]
  },
  {
   "cell_type": "code",
   "execution_count": null,
   "id": "36be8499",
   "metadata": {},
   "outputs": [
    {
     "ename": "NameError",
     "evalue": "name 'semantic_field_points' is not defined",
     "output_type": "error",
     "traceback": [
      "\u001b[0;31m---------------------------------------------------------------------------\u001b[0m",
      "\u001b[0;31mNameError\u001b[0m                                 Traceback (most recent call last)",
      "Cell \u001b[0;32mIn[4], line 4\u001b[0m\n\u001b[1;32m      1\u001b[0m \u001b[38;5;28;01mimport\u001b[39;00m\u001b[38;5;250m \u001b[39m\u001b[38;5;21;01mplotly\u001b[39;00m\u001b[38;5;21;01m.\u001b[39;00m\u001b[38;5;21;01mexpress\u001b[39;00m\u001b[38;5;250m \u001b[39m\u001b[38;5;28;01mas\u001b[39;00m\u001b[38;5;250m \u001b[39m\u001b[38;5;21;01mpx\u001b[39;00m\n\u001b[1;32m      3\u001b[0m fig \u001b[38;5;241m=\u001b[39m px\u001b[38;5;241m.\u001b[39mscatter_3d(\n\u001b[0;32m----> 4\u001b[0m     x\u001b[38;5;241m=\u001b[39m\u001b[43msemantic_field_points\u001b[49m[:, \u001b[38;5;241m0\u001b[39m],\n\u001b[1;32m      5\u001b[0m     y\u001b[38;5;241m=\u001b[39msemantic_field_points[:, \u001b[38;5;241m1\u001b[39m],\n\u001b[1;32m      6\u001b[0m     z\u001b[38;5;241m=\u001b[39msemantic_field_points[:, \u001b[38;5;241m2\u001b[39m],\n\u001b[1;32m      7\u001b[0m     color_discrete_sequence\u001b[38;5;241m=\u001b[39m[\u001b[38;5;124m\"\u001b[39m\u001b[38;5;124mred\u001b[39m\u001b[38;5;124m\"\u001b[39m],\n\u001b[1;32m      8\u001b[0m     title\u001b[38;5;241m=\u001b[39m\u001b[38;5;124m\"\u001b[39m\u001b[38;5;124mSemantic Field Points 3D Scatter\u001b[39m\u001b[38;5;124m\"\u001b[39m,\n\u001b[1;32m      9\u001b[0m     labels\u001b[38;5;241m=\u001b[39m{\u001b[38;5;124m\"\u001b[39m\u001b[38;5;124mx\u001b[39m\u001b[38;5;124m\"\u001b[39m: \u001b[38;5;124m\"\u001b[39m\u001b[38;5;124mX\u001b[39m\u001b[38;5;124m\"\u001b[39m, \u001b[38;5;124m\"\u001b[39m\u001b[38;5;124my\u001b[39m\u001b[38;5;124m\"\u001b[39m: \u001b[38;5;124m\"\u001b[39m\u001b[38;5;124mY\u001b[39m\u001b[38;5;124m\"\u001b[39m, \u001b[38;5;124m\"\u001b[39m\u001b[38;5;124mz\u001b[39m\u001b[38;5;124m\"\u001b[39m: \u001b[38;5;124m\"\u001b[39m\u001b[38;5;124mZ\u001b[39m\u001b[38;5;124m\"\u001b[39m},\n\u001b[1;32m     10\u001b[0m )\n\u001b[1;32m     12\u001b[0m fig\u001b[38;5;241m.\u001b[39mupdate_traces(marker\u001b[38;5;241m=\u001b[39m\u001b[38;5;28mdict\u001b[39m(size\u001b[38;5;241m=\u001b[39m\u001b[38;5;241m1\u001b[39m))\n\u001b[1;32m     14\u001b[0m fig\u001b[38;5;241m.\u001b[39mshow()\n",
      "\u001b[0;31mNameError\u001b[0m: name 'semantic_field_points' is not defined"
     ]
    },
    {
     "data": {
      "text/html": [
       "<pre style=\"white-space:pre;overflow-x:auto;line-height:normal;font-family:Menlo,'DejaVu Sans Mono',consolas,'Courier New',monospace\"><span style=\"font-weight: bold\">(viser)</span> Connection closed <span style=\"font-weight: bold\">(</span><span style=\"color: #008080; text-decoration-color: #008080; font-weight: bold\">0</span>, <span style=\"color: #008080; text-decoration-color: #008080; font-weight: bold\">0</span> total<span style=\"font-weight: bold\">)</span>\n",
       "</pre>\n"
      ],
      "text/plain": [
       "\u001b[1m(\u001b[0m\u001b[1mviser\u001b[0m\u001b[1m)\u001b[0m Connection closed \u001b[1m(\u001b[0m\u001b[1;36m0\u001b[0m, \u001b[1;36m0\u001b[0m total\u001b[1m)\u001b[0m\n"
      ]
     },
     "metadata": {},
     "output_type": "display_data"
    }
   ],
   "source": [
    "import plotly.express as px\n",
    "\n",
    "fig = px.scatter_3d(\n",
    "    x=semantic_field_points[:, 0],\n",
    "    y=semantic_field_points[:, 1],\n",
    "    z=semantic_field_points[:, 2],\n",
    "    color_discrete_sequence=[\"red\"],\n",
    "    title=\"Semantic Field Points 3D Scatter\",\n",
    "    labels={\"x\": \"X\", \"y\": \"Y\", \"z\": \"Z\"},\n",
    ")\n",
    "\n",
    "fig.update_traces(marker=dict(size=1))\n",
    "\n",
    "fig.show()"
   ]
  }
 ],
 "metadata": {
  "kernelspec": {
   "display_name": "Python 3",
   "language": "python",
   "name": "python3"
  },
  "language_info": {
   "codemirror_mode": {
    "name": "ipython",
    "version": 3
   },
   "file_extension": ".py",
   "mimetype": "text/x-python",
   "name": "python",
   "nbconvert_exporter": "python",
   "pygments_lexer": "ipython3",
   "version": "3.10.12"
  }
 },
 "nbformat": 4,
 "nbformat_minor": 5
}
